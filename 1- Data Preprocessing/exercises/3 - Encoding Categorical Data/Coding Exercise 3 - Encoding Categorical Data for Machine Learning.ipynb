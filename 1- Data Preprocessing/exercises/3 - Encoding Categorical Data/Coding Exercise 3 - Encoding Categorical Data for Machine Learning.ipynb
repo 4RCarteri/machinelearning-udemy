{
 "cells": [
  {
   "cell_type": "code",
   "execution_count": 1,
   "metadata": {},
   "outputs": [
    {
     "name": "stdout",
     "output_type": "stream",
     "text": [
      "Updated matrix of features: \n",
      " [[1.0 0.0 1.0 ... 'PC 17599' 71.2833 'C85']\n",
      " [1.0 0.0 0.0 ... '113803' 53.1 'C123']\n",
      " [0.0 1.0 0.0 ... '17463' 51.8625 'E46']\n",
      " ...\n",
      " [1.0 0.0 1.0 ... '11767' 83.1583 'C50']\n",
      " [1.0 0.0 0.0 ... '112053' 30.0 'B42']\n",
      " [0.0 1.0 1.0 ... '111369' 30.0 'C148']]\n",
      "Updated dependent variable vector: \n",
      " [1 1 0 1 1 1 1 0 1 0 0 1 0 1 0 0 1 0 0 0 1 0 1 0 0 0 1 0 0 0 1 1 1 1 0 1 1\n",
      " 1 1 1 0 1 0 0 1 0 0 1 1 0 1 1 0 0 1 1 1 1 1 1 1 1 1 1 1 0 0 0 1 0 1 1 1 1\n",
      " 1 1 1 0 1 1 1 1 1 1 0 1 0 1 1 0 1 0 1 0 1 1 1 0 0 1 0 1 0 1 0 1 1 1 0 1 1\n",
      " 0 1 1 1 1 1 1 1 0 1 1 1 1 1 1 1 0 1 1 1 1 1 1 0 0 0 1 1 1 1 0 0 1 1 1 1 1\n",
      " 0 1 1 1 1 1 0 1 0 0 1 1 1 1 0 1 1 0 0 1 1 0 1 1 1 1 1 1 1 0 1 0 1 1 1]\n"
     ]
    }
   ],
   "source": [
    "# Importing the necessary libraries\n",
    "import pandas as pd\n",
    "import numpy as np\n",
    "from sklearn.preprocessing import LabelEncoder, OneHotEncoder\n",
    "from sklearn.compose import ColumnTransformer\n",
    "\n",
    "# Load the dataset\n",
    "df = pd.read_csv(\"titanic.csv\")\n",
    "\n",
    "# Identify the categorical data\n",
    "categorical_features = ['Sex', 'Embarked', 'Pclass']\n",
    "\n",
    "# Implement an instance of the ColumnTransformer class\n",
    "ct = ColumnTransformer(transformers=[('encoder', OneHotEncoder(), categorical_features)], remainder='passthrough')\n",
    "\n",
    "\n",
    "# Apply the fit_transform method on the instance of ColumnTransformer\n",
    "X = ct.fit_transform(df)\n",
    "\n",
    "\n",
    "# Convert the output into a NumPy array\n",
    "X = np.array(X)\n",
    "\n",
    "# Use LabelEncoder to encode binary categorical data\n",
    "y = LabelEncoder().fit_transform(df['Survived'])\n",
    "\n",
    "# Print the updated matrix of features and the dependent variable vector\n",
    "print(\"Updated matrix of features: \\n\", X)\n",
    "print(\"Updated dependent variable vector: \\n\", y)\n"
   ]
  }
 ],
 "metadata": {
  "kernelspec": {
   "display_name": "venv",
   "language": "python",
   "name": "python3"
  },
  "language_info": {
   "codemirror_mode": {
    "name": "ipython",
    "version": 3
   },
   "file_extension": ".py",
   "mimetype": "text/x-python",
   "name": "python",
   "nbconvert_exporter": "python",
   "pygments_lexer": "ipython3",
   "version": "3.12.4"
  }
 },
 "nbformat": 4,
 "nbformat_minor": 2
}
